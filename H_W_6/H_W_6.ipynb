{
  "cells": [
    {
      "cell_type": "code",
      "execution_count": 2,
      "metadata": {
        "id": "zW7pFCIElkr6"
      },
      "outputs": [],
      "source": [
        "# импорт необходимых библиотек\n",
        "from statsmodels.stats.power import tt_ind_solve_power, zt_ind_solve_power\n",
        "from statsmodels.stats.proportion import proportion_effectsize\n",
        "from statsmodels.stats.meta_analysis import effectsize_smd\n",
        "from typing import Union\n",
        "import plotly.graph_objects as go\n",
        "from scipy import stats\n",
        "from math import asin\n",
        "import numpy as np"
      ]
    },
    {
      "cell_type": "code",
      "execution_count": 3,
      "metadata": {
        "id": "k2xZX-hamkGN"
      },
      "outputs": [],
      "source": [
        "#Расчёт effect_size для пропорций\n",
        "def calc_propotion_effect_size(conv_1: int, nobs_1: int, conv_2: int, nobs_2: int):\n",
        "    prob_1, prob_2 = conv_1 / nobs_1, conv_2 / nobs_2\n",
        "\n",
        "    es_formula = 2  * asin(np.sqrt(prob_1)) - 2 * asin(np.sqrt(prob_2))\n",
        "    es_import = proportion_effectsize(prob_1, prob_2)\n",
        "\n",
        "    return es_formula, es_import"
      ]
    },
    {
      "cell_type": "code",
      "execution_count": 4,
      "metadata": {
        "id": "0yOTpHa2mlUO"
      },
      "outputs": [],
      "source": [
        "#Расчёт минимально необходимой выборки * 2(для теста и контроля) для пропорций\n",
        "def calc_sample_size_proportion(effect_size: float,\n",
        "                                alpha: float = .05,\n",
        "                                beta: float = .2,\n",
        "                                ratio: Union[float, int] = 1):\n",
        "\n",
        "    n = zt_ind_solve_power(effect_size=effect_size,\n",
        "                           alpha=alpha,\n",
        "                           power=(1 - beta),\n",
        "                           ratio=ratio,\n",
        "                  )\n",
        "    return int(n * 2)"
      ]
    },
    {
      "cell_type": "markdown",
      "metadata": {
        "id": "d6OJyVctn5Et"
      },
      "source": [
        "\n",
        "Метрика bounce rate в GA = 40%.\n",
        "При оптимизации сайта она изменится минимум на 20% от текущего показателя. =>\n",
        "40% х 0,2 = 8%\n",
        "40% - 8% = 32% =>\n",
        "H0=40% # bounce rate в GA\n",
        "H1=32% # bounce rate в GA\n",
        "\n",
        "Найдем размер выборки для каждой гипотезы, при помощи калькулятора https://www.evanmiller.org/ab-testing/sample-size.html"
      ]
    },
    {
      "cell_type": "markdown",
      "metadata": {
        "id": "2H737gQLs9s3"
      },
      "source": [
        "Скрины работы в калькуляторе прилагаю к выполненной работе."
      ]
    },
    {
      "cell_type": "markdown",
      "metadata": {
        "id": "9Y4f_Z3poQ3O"
      },
      "source": [
        "Размер минимально необходимой выборки 592 человека на каждую гипотезу."
      ]
    },
    {
      "cell_type": "code",
      "execution_count": 5,
      "metadata": {
        "colab": {
          "base_uri": "https://localhost:8080/"
        },
        "id": "LKx7iyEQoUsm",
        "outputId": "a584fb95-3fae-4d4a-f308-ae996552cb95"
      },
      "outputs": [
        {
          "name": "stdout",
          "output_type": "stream",
          "text": [
            "0.06756756756756757 0.05405405405405406\n"
          ]
        },
        {
          "data": {
            "text/plain": [
              "(0.05663024817640083, 0.05663024817640083)"
            ]
          },
          "execution_count": 5,
          "metadata": {},
          "output_type": "execute_result"
        }
      ],
      "source": [
        "# Расчитываем effect_size.\n",
        "conv_1, conv_2 = 40, 32\n",
        "nobs_1, nobs_2 = 592, 592\n",
        "prob_1, prob_2 = conv_1 / nobs_1, conv_2 / nobs_2\n",
        "print(prob_1, prob_2)\n",
        "calc_propotion_effect_size(conv_1=conv_1, nobs_1=nobs_1, conv_2=conv_2, nobs_2=nobs_2)"
      ]
    },
    {
      "cell_type": "code",
      "execution_count": 6,
      "metadata": {
        "colab": {
          "base_uri": "https://localhost:8080/"
        },
        "id": "Z1niNo_8oaWV",
        "outputId": "0b40bd02-2518-40f4-a097-d5e0a7b9fac2"
      },
      "outputs": [
        {
          "name": "stdout",
          "output_type": "stream",
          "text": [
            "Общий размер выборки 9789 человек.\n"
          ]
        }
      ],
      "source": [
        "# Расчитываем минимально необходимую выборку\n",
        "effect_size = calc_propotion_effect_size(conv_1=conv_1, nobs_1=nobs_1, conv_2=conv_2, nobs_2=nobs_2)[0]\n",
        "selection = calc_sample_size_proportion(effect_size=effect_size, alpha=.05, beta=.2)\n",
        "\n",
        "print(f\"Общий размер выборки {selection} человек.\")"
      ]
    },
    {
      "cell_type": "markdown",
      "metadata": {
        "id": "o4RV_2GuoduO"
      },
      "source": [
        "По условию средний трафик 4000 человек в день."
      ]
    },
    {
      "cell_type": "code",
      "execution_count": 31,
      "metadata": {
        "colab": {
          "base_uri": "https://localhost:8080/"
        },
        "id": "BkBy6PeUoei8",
        "outputId": "34d98e53-c58c-4768-9b14-6972645ebba9"
      },
      "outputs": [
        {
          "name": "stdout",
          "output_type": "stream",
          "text": [
            "Необходимо провести эксперимент в течение 2.44725 дней\n"
          ]
        }
      ],
      "source": [
        "# Расчитаем количество дней.\n",
        "days = selection/4000\n",
        "\n",
        "print(f\"Необходимо провести эксперимент в течение {days} дней\")"
      ]
    },
    {
      "cell_type": "markdown",
      "metadata": {
        "id": "7Ty4KWJvok0u"
      },
      "source": [
        "Данные 2,44725 дней округляем в большую сторону => ~ 3 дня."
      ]
    },
    {
      "cell_type": "markdown",
      "metadata": {
        "id": "1roaJpG7omJ9"
      },
      "source": [
        "Ответ:  ***~ 3 дня необходимо держать эксперимент, если мы его реализуем на всех 9 789 пользователях, при alpha = 5% и beta = 20%***."
      ]
    },
    {
      "cell_type": "markdown",
      "metadata": {
        "id": "ZFLnlUYXoxcd"
      },
      "source": [
        "## Задание 1"
      ]
    },
    {
      "cell_type": "code",
      "execution_count": 19,
      "metadata": {
        "id": "7XyCZJgjo0yF"
      },
      "outputs": [],
      "source": [
        "# импорт необходимых библиотек\n",
        "from statsmodels.stats.power import tt_ind_solve_power, zt_ind_solve_power\n",
        "from statsmodels.stats.proportion import proportion_effectsize\n",
        "from statsmodels.stats.meta_analysis import effectsize_smd\n",
        "from typing import Union\n",
        "import plotly.graph_objects as go\n",
        "from scipy import stats\n",
        "from math import asin\n",
        "import numpy as np"
      ]
    },
    {
      "cell_type": "code",
      "execution_count": 20,
      "metadata": {
        "id": "hyZY-dUyo5bE"
      },
      "outputs": [],
      "source": [
        "#Расчёт effect_size для непрерывных метрик\n",
        "def calc_continuous_effect_size(mean_1: Union[float, int],\n",
        "                                std_1: Union[float, int],\n",
        "                                mean_2: Union[float, int],\n",
        "                                std_2: Union[float, int],\n",
        "                                nobs_1: int = 10_000,\n",
        "                                nobs_2: int = 10_000):\n",
        "\n",
        "    es_formula = (mean_1 - mean_2) / ((std_1**2 + std_2**2) / 2) ** 0.5\n",
        "    es_import = effectsize_smd(mean_1, std_1, nobs_1, mean_2, std_2, nobs_2)[0]\n",
        "\n",
        "    return es_formula, es_import"
      ]
    },
    {
      "cell_type": "code",
      "execution_count": 21,
      "metadata": {
        "id": "R54rTHSno8ut"
      },
      "outputs": [],
      "source": [
        "#Расчёт минимально необходимой выборки * 2(для теста и контроля) для непрерывной метрики\n",
        "def calc_sample_size_continuous(effect_size: float,\n",
        "                                alpha: float = .05,\n",
        "                                beta: float = .2,\n",
        "                                ratio: Union[float, int] = 1):\n",
        "\n",
        "    n = tt_ind_solve_power(effect_size=effect_size,\n",
        "                           alpha=alpha,\n",
        "                           power=(1 - beta),\n",
        "                           ratio=ratio,\n",
        "                  )\n",
        "    return int(n * 2)"
      ]
    },
    {
      "cell_type": "markdown",
      "metadata": {
        "id": "s3STgzLFpCWz"
      },
      "source": [
        "По условию таймспент 25 мин, если таймспент на юзера в день изменится на 10%, => новый таймспент 27,5 мин.\n",
        "Стандартная ошибка (SD) равна 156."
      ]
    },
    {
      "cell_type": "code",
      "execution_count": 22,
      "metadata": {
        "colab": {
          "base_uri": "https://localhost:8080/"
        },
        "id": "wvmRRdmVpGMl",
        "outputId": "1769c78a-fa60-47e1-9f70-b6bce9b06c20"
      },
      "outputs": [
        {
          "data": {
            "text/plain": [
              "(-0.016025641025641024, -0.016025039996486783)"
            ]
          },
          "execution_count": 22,
          "metadata": {},
          "output_type": "execute_result"
        }
      ],
      "source": [
        "# Расчитываем effect_size.\n",
        "\n",
        "mu_control, mu_test = 25, 27.5\n",
        "std_control, std_test = 156, 156\n",
        "\n",
        "calc_continuous_effect_size(mean_1=mu_control, std_1=std_control, mean_2=mu_test, std_2=std_test)"
      ]
    },
    {
      "cell_type": "code",
      "execution_count": 23,
      "metadata": {
        "colab": {
          "base_uri": "https://localhost:8080/"
        },
        "id": "NnhywFKkpIvr",
        "outputId": "cf8f3e69-9d9f-45e8-9755-2e379badd431"
      },
      "outputs": [
        {
          "name": "stdout",
          "output_type": "stream",
          "text": [
            "Общий размер выборки 122257 человек.\n"
          ]
        }
      ],
      "source": [
        "# Расчитываем минимально необходимую выборку.\n",
        "\n",
        "effect_size = calc_continuous_effect_size(mean_1=mu_control, std_1=std_control, mean_2=mu_test, std_2=std_test)[1]\n",
        "selection = calc_sample_size_continuous(effect_size=effect_size, alpha=.05, beta=.2)\n",
        "\n",
        "print(f\"Общий размер выборки {selection} человек.\")"
      ]
    },
    {
      "cell_type": "code",
      "execution_count": 24,
      "metadata": {
        "colab": {
          "base_uri": "https://localhost:8080/"
        },
        "id": "w11_33r-pN0W",
        "outputId": "870cc789-da3d-4f84-d1f3-228f36e8126f"
      },
      "outputs": [
        {
          "name": "stdout",
          "output_type": "stream",
          "text": [
            "Необходимо провести эксперимент в течение 6.11285 дней\n"
          ]
        }
      ],
      "source": [
        "# Расчитаем количество дней.\n",
        "days = selection/20000\n",
        "\n",
        "print(f\"Необходимо провести эксперимент в течение {days} дней\")"
      ]
    },
    {
      "cell_type": "markdown",
      "metadata": {
        "id": "NWhPSDbdpPZs"
      },
      "source": [
        "Данные 6,11285 дней округляем в большую сторону => ~ 7 дней."
      ]
    },
    {
      "cell_type": "markdown",
      "metadata": {
        "id": "Tl2YEY92pSrN"
      },
      "source": [
        "Ответ:  ~ **7 дней необходимо держать эксперимент, если мы его реализуем на всех 122 257 пользователях, при alpha = 5% и beta = 20%.**"
      ]
    }
  ],
  "metadata": {
    "colab": {
      "provenance": []
    },
    "kernelspec": {
      "display_name": "Python 3",
      "name": "python3"
    },
    "language_info": {
      "codemirror_mode": {
        "name": "ipython",
        "version": 3
      },
      "file_extension": ".py",
      "mimetype": "text/x-python",
      "name": "python",
      "nbconvert_exporter": "python",
      "pygments_lexer": "ipython3",
      "version": "3.11.5"
    }
  },
  "nbformat": 4,
  "nbformat_minor": 0
}
