{
  "nbformat": 4,
  "nbformat_minor": 0,
  "metadata": {
    "colab": {
      "provenance": [],
      "authorship_tag": "ABX9TyMjakPr8Y1q8a3YFoIYVVBh",
      "include_colab_link": true
    },
    "kernelspec": {
      "name": "python3",
      "display_name": "Python 3"
    },
    "language_info": {
      "name": "python"
    }
  },
  "cells": [
    {
      "cell_type": "markdown",
      "metadata": {
        "id": "view-in-github",
        "colab_type": "text"
      },
      "source": [
        "<a href=\"https://colab.research.google.com/github/Deniska122334/A-B-testing-H_W/blob/main/H_W_5.ipynb\" target=\"_parent\"><img src=\"https://colab.research.google.com/assets/colab-badge.svg\" alt=\"Open In Colab\"/></a>"
      ]
    },
    {
      "cell_type": "markdown",
      "source": [
        "## Задание 1"
      ],
      "metadata": {
        "id": "LukeI0IUE3kp"
      }
    },
    {
      "cell_type": "code",
      "source": [
        "import numpy as np\n",
        "import statsmodels.stats.proportion as smp"
      ],
      "metadata": {
        "id": "Qxo0oxeQE6-X"
      },
      "execution_count": 1,
      "outputs": []
    },
    {
      "cell_type": "code",
      "source": [
        "alpha = 0.05\n",
        "# число успехов в каждой группе\n",
        "successes = np.array([164, 228])\n",
        "\n",
        "# число наблюдений в каждой группе\n",
        "nobs = np.array([15550, 15550])\n",
        "\n",
        "# пропорции успехов в каждой группе\n",
        "proportions = successes / nobs\n",
        "\n",
        "# z-статистика и p-значение\n",
        "zstat, pvalue = smp.proportions_ztest(count=successes, nobs=nobs, value=0, alternative='two-sided')\n",
        "print(zstat)\n",
        "print(pvalue)"
      ],
      "metadata": {
        "colab": {
          "base_uri": "https://localhost:8080/"
        },
        "id": "dOjk40i_FGvH",
        "outputId": "f4f6e7d4-501f-4e62-e731-667809e9f219"
      },
      "execution_count": 2,
      "outputs": [
        {
          "output_type": "stream",
          "name": "stdout",
          "text": [
            "-3.253054722696254\n",
            "0.001141715077067056\n"
          ]
        }
      ]
    },
    {
      "cell_type": "markdown",
      "source": [
        "На основе z-статистики: -3.253054722696254 и p-value: 0.001141715077067056, можно сделать вывод о статистически значимых различиях между конверсиями в двух группах."
      ],
      "metadata": {
        "id": "onRLgWphFRDn"
      }
    },
    {
      "cell_type": "markdown",
      "source": [
        "** Рекомендации команде: на основании результатов эксперимента можно рекомендовать использовать упрощенную форму заказа в магазине Утконос, так как она приводит к более высокой конверсии в покупку. Однако, следует провести дополнительные исследования, чтобы понять, какие именно элементы формы заказа необходимо упростить, чтобы максимизировать конверсии.*"
      ],
      "metadata": {
        "id": "0P4WCMnUFTIX"
      }
    },
    {
      "cell_type": "markdown",
      "source": [
        "## Задание 2"
      ],
      "metadata": {
        "id": "6TooG8CPFpXx"
      }
    },
    {
      "cell_type": "markdown",
      "source": [
        "Для сравнения метрики конверсии в покупку между двумя группами с размером выборки по 10 000 элементов в каждой группе лучше всего использовать **z-тест**, так как объём выборки достаточно большой (больше 30), что позволяет использовать нормальное распределение для вычисления статистической значимости.\n",
        "**T-тест** Стьюдента также может использоваться в данном случае, но z-тест является более точным и надёжным при больших размерах выборки."
      ],
      "metadata": {
        "id": "6EOsJ3LXFr2I"
      }
    }
  ]
}